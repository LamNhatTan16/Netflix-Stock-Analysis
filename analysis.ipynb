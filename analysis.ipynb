{
 "cells": [
  {
   "cell_type": "markdown",
   "metadata": {},
   "source": [
    "# 📊 Netflix Stock Analysis\n",
    "\n",
    "Phân tích dữ liệu chứng khoán của Netflix, bao gồm:\n",
    "- Hợp nhất dữ liệu từ nhiều file CSV\n",
    "- Làm sạch và chuẩn hóa dữ liệu\n",
    "- Tính toán các chỉ số tài chính như Daily Return\n",
    "- Phân tích rủi ro tài chính (VaR, CVaR)\n",
    "- Trực quan hóa xu hướng giá cổ phiếu\n"
   ]
  },
  {
   "cell_type": "markdown",
   "metadata": {},
   "source": [
    "**📌 Import thư viện**\n"
   ]
  },
  {
   "cell_type": "code",
   "execution_count": 41,
   "metadata": {},
   "outputs": [],
   "source": [
    "import pandas as pd\n",
    "import matplotlib.pyplot as plt\n",
    "import numpy as np"
   ]
  },
  {
   "cell_type": "markdown",
   "metadata": {},
   "source": [
    "## 📝 Bước 1: Thu thập dữ liệu (Data Collection)\n",
    "Hợp nhất nhiều file CSV thành một file `raw_data.csv`\n"
   ]
  },
  {
   "cell_type": "code",
   "execution_count": 42,
   "metadata": {},
   "outputs": [
    {
     "data": {
      "text/html": [
       "<div>\n",
       "<style scoped>\n",
       "    .dataframe tbody tr th:only-of-type {\n",
       "        vertical-align: middle;\n",
       "    }\n",
       "\n",
       "    .dataframe tbody tr th {\n",
       "        vertical-align: top;\n",
       "    }\n",
       "\n",
       "    .dataframe thead th {\n",
       "        text-align: right;\n",
       "    }\n",
       "</style>\n",
       "<table border=\"1\" class=\"dataframe\">\n",
       "  <thead>\n",
       "    <tr style=\"text-align: right;\">\n",
       "      <th></th>\n",
       "      <th>date</th>\n",
       "      <th>open</th>\n",
       "      <th>high</th>\n",
       "      <th>low</th>\n",
       "      <th>close</th>\n",
       "      <th>adj close</th>\n",
       "      <th>volume</th>\n",
       "    </tr>\n",
       "  </thead>\n",
       "  <tbody>\n",
       "    <tr>\n",
       "      <th>0</th>\n",
       "      <td>2002-05-23 00:00:00-04:00</td>\n",
       "      <td>1.156429</td>\n",
       "      <td>1.242857</td>\n",
       "      <td>1.145714</td>\n",
       "      <td>1.196429</td>\n",
       "      <td>1.196429</td>\n",
       "      <td>104790000</td>\n",
       "    </tr>\n",
       "    <tr>\n",
       "      <th>1</th>\n",
       "      <td>2002-05-24 00:00:00-04:00</td>\n",
       "      <td>1.214286</td>\n",
       "      <td>1.225000</td>\n",
       "      <td>1.197143</td>\n",
       "      <td>1.210000</td>\n",
       "      <td>1.210000</td>\n",
       "      <td>11104800</td>\n",
       "    </tr>\n",
       "    <tr>\n",
       "      <th>2</th>\n",
       "      <td>2002-05-28 00:00:00-04:00</td>\n",
       "      <td>1.213571</td>\n",
       "      <td>1.232143</td>\n",
       "      <td>1.157143</td>\n",
       "      <td>1.157143</td>\n",
       "      <td>1.157143</td>\n",
       "      <td>6609400</td>\n",
       "    </tr>\n",
       "    <tr>\n",
       "      <th>3</th>\n",
       "      <td>2002-05-29 00:00:00-04:00</td>\n",
       "      <td>1.164286</td>\n",
       "      <td>1.164286</td>\n",
       "      <td>1.085714</td>\n",
       "      <td>1.103571</td>\n",
       "      <td>1.103571</td>\n",
       "      <td>6757800</td>\n",
       "    </tr>\n",
       "    <tr>\n",
       "      <th>4</th>\n",
       "      <td>2002-05-30 00:00:00-04:00</td>\n",
       "      <td>1.107857</td>\n",
       "      <td>1.107857</td>\n",
       "      <td>1.071429</td>\n",
       "      <td>1.071429</td>\n",
       "      <td>1.071429</td>\n",
       "      <td>10154200</td>\n",
       "    </tr>\n",
       "  </tbody>\n",
       "</table>\n",
       "</div>"
      ],
      "text/plain": [
       "                        date      open      high       low     close  \\\n",
       "0  2002-05-23 00:00:00-04:00  1.156429  1.242857  1.145714  1.196429   \n",
       "1  2002-05-24 00:00:00-04:00  1.214286  1.225000  1.197143  1.210000   \n",
       "2  2002-05-28 00:00:00-04:00  1.213571  1.232143  1.157143  1.157143   \n",
       "3  2002-05-29 00:00:00-04:00  1.164286  1.164286  1.085714  1.103571   \n",
       "4  2002-05-30 00:00:00-04:00  1.107857  1.107857  1.071429  1.071429   \n",
       "\n",
       "   adj close     volume  \n",
       "0   1.196429  104790000  \n",
       "1   1.210000   11104800  \n",
       "2   1.157143    6609400  \n",
       "3   1.103571    6757800  \n",
       "4   1.071429   10154200  "
      ]
     },
     "execution_count": 42,
     "metadata": {},
     "output_type": "execute_result"
    }
   ],
   "source": [
    "def merge_stock_files(file_paths, output_file):\n",
    "    df_list = []\n",
    "    for file in file_paths:\n",
    "        df = pd.read_csv(file)\n",
    "        df.columns = df.columns.str.strip().str.lower()\n",
    "        df_list.append(df)\n",
    "    merged_df = pd.concat(df_list, ignore_index=True)\n",
    "    merged_df.to_csv(output_file, index=False)\n",
    "    return merged_df\n",
    "\n",
    "file_paths = [\n",
    "    \"NFLX_2002-05-23_2025-03-02 (1).csv\",\n",
    "    \"NFLX_2002-05-23_2025-02-24.csv\",\n",
    "    \"NFLX_2002-05-23_2025-02-18.csv\",\n",
    "    \"NFLX_2002-05-23_2025-02-07.csv\",\n",
    "    \"NFLX_2002-05-23_2025-01-31.csv\"\n",
    "]\n",
    "output_file = \"raw_data.csv\"\n",
    "\n",
    "stock_data = merge_stock_files(file_paths, output_file)\n",
    "stock_data.head()\n"
   ]
  },
  {
   "cell_type": "markdown",
   "metadata": {},
   "source": [
    "## 🛠️ Bước 2: Chuẩn bị và xử lý dữ liệu\n",
    "- Kiểm tra sơ bộ dữ liệu\n",
    "- Loại bỏ giá trị trùng lặp\n",
    "- Xử lý giá trị bị thiếu\n",
    "- Chuyển đổi định dạng ngày tháng\n"
   ]
  },
  {
   "cell_type": "code",
   "execution_count": 43,
   "metadata": {},
   "outputs": [
    {
     "name": "stdout",
     "output_type": "stream",
     "text": [
      "<class 'pandas.core.frame.DataFrame'>\n",
      "RangeIndex: 28601 entries, 0 to 28600\n",
      "Data columns (total 7 columns):\n",
      " #   Column     Non-Null Count  Dtype  \n",
      "---  ------     --------------  -----  \n",
      " 0   date       28601 non-null  object \n",
      " 1   open       28601 non-null  float64\n",
      " 2   high       28601 non-null  float64\n",
      " 3   low        28601 non-null  float64\n",
      " 4   close      28601 non-null  float64\n",
      " 5   adj close  28601 non-null  float64\n",
      " 6   volume     28601 non-null  int64  \n",
      "dtypes: float64(5), int64(1), object(1)\n",
      "memory usage: 1.5+ MB\n"
     ]
    }
   ],
   "source": [
    "stock_data.info()"
   ]
  },
  {
   "cell_type": "code",
   "execution_count": 44,
   "metadata": {},
   "outputs": [
    {
     "name": "stderr",
     "output_type": "stream",
     "text": [
      "C:\\Users\\lamnh\\AppData\\Local\\Temp\\ipykernel_12112\\757335793.py:5: FutureWarning: In a future version of pandas, parsing datetimes with mixed time zones will raise an error unless `utc=True`. Please specify `utc=True` to opt in to the new behaviour and silence this warning. To create a `Series` with mixed offsets and `object` dtype, please use `apply` and `datetime.datetime.strptime`\n",
      "  df['date'] = pd.to_datetime(df['date'], format='mixed', errors='coerce')\n"
     ]
    },
    {
     "data": {
      "text/html": [
       "<div>\n",
       "<style scoped>\n",
       "    .dataframe tbody tr th:only-of-type {\n",
       "        vertical-align: middle;\n",
       "    }\n",
       "\n",
       "    .dataframe tbody tr th {\n",
       "        vertical-align: top;\n",
       "    }\n",
       "\n",
       "    .dataframe thead th {\n",
       "        text-align: right;\n",
       "    }\n",
       "</style>\n",
       "<table border=\"1\" class=\"dataframe\">\n",
       "  <thead>\n",
       "    <tr style=\"text-align: right;\">\n",
       "      <th></th>\n",
       "      <th>date</th>\n",
       "      <th>open</th>\n",
       "      <th>high</th>\n",
       "      <th>low</th>\n",
       "      <th>close</th>\n",
       "      <th>adj close</th>\n",
       "      <th>volume</th>\n",
       "    </tr>\n",
       "  </thead>\n",
       "  <tbody>\n",
       "    <tr>\n",
       "      <th>0</th>\n",
       "      <td>2002-05-23 00:00:00-04:00</td>\n",
       "      <td>1.156429</td>\n",
       "      <td>1.242857</td>\n",
       "      <td>1.145714</td>\n",
       "      <td>1.196429</td>\n",
       "      <td>1.196429</td>\n",
       "      <td>104790000</td>\n",
       "    </tr>\n",
       "    <tr>\n",
       "      <th>1</th>\n",
       "      <td>2002-05-24 00:00:00-04:00</td>\n",
       "      <td>1.214286</td>\n",
       "      <td>1.225000</td>\n",
       "      <td>1.197143</td>\n",
       "      <td>1.210000</td>\n",
       "      <td>1.210000</td>\n",
       "      <td>11104800</td>\n",
       "    </tr>\n",
       "    <tr>\n",
       "      <th>2</th>\n",
       "      <td>2002-05-28 00:00:00-04:00</td>\n",
       "      <td>1.213571</td>\n",
       "      <td>1.232143</td>\n",
       "      <td>1.157143</td>\n",
       "      <td>1.157143</td>\n",
       "      <td>1.157143</td>\n",
       "      <td>6609400</td>\n",
       "    </tr>\n",
       "    <tr>\n",
       "      <th>3</th>\n",
       "      <td>2002-05-29 00:00:00-04:00</td>\n",
       "      <td>1.164286</td>\n",
       "      <td>1.164286</td>\n",
       "      <td>1.085714</td>\n",
       "      <td>1.103571</td>\n",
       "      <td>1.103571</td>\n",
       "      <td>6757800</td>\n",
       "    </tr>\n",
       "    <tr>\n",
       "      <th>4</th>\n",
       "      <td>2002-05-30 00:00:00-04:00</td>\n",
       "      <td>1.107857</td>\n",
       "      <td>1.107857</td>\n",
       "      <td>1.071429</td>\n",
       "      <td>1.071429</td>\n",
       "      <td>1.071429</td>\n",
       "      <td>10154200</td>\n",
       "    </tr>\n",
       "  </tbody>\n",
       "</table>\n",
       "</div>"
      ],
      "text/plain": [
       "                        date      open      high       low     close  \\\n",
       "0  2002-05-23 00:00:00-04:00  1.156429  1.242857  1.145714  1.196429   \n",
       "1  2002-05-24 00:00:00-04:00  1.214286  1.225000  1.197143  1.210000   \n",
       "2  2002-05-28 00:00:00-04:00  1.213571  1.232143  1.157143  1.157143   \n",
       "3  2002-05-29 00:00:00-04:00  1.164286  1.164286  1.085714  1.103571   \n",
       "4  2002-05-30 00:00:00-04:00  1.107857  1.107857  1.071429  1.071429   \n",
       "\n",
       "   adj close     volume  \n",
       "0   1.196429  104790000  \n",
       "1   1.210000   11104800  \n",
       "2   1.157143    6609400  \n",
       "3   1.103571    6757800  \n",
       "4   1.071429   10154200  "
      ]
     },
     "execution_count": 44,
     "metadata": {},
     "output_type": "execute_result"
    }
   ],
   "source": [
    "def prepare_stock_data(df):\n",
    "    df = df.drop_duplicates()  # Xóa dữ liệu trùng lặp\n",
    "    df = df.dropna()  # Loại bỏ giá trị bị thiếu\n",
    "    # Chuyển đổi định dạng ngày tháng (xử lý lỗi nếu có)\n",
    "    df['date'] = pd.to_datetime(df['date'], format='mixed', errors='coerce')\n",
    "    \n",
    "    return df\n",
    "\n",
    "\n",
    "stock_data = prepare_stock_data(stock_data)\n",
    "stock_data.head()"
   ]
  },
  {
   "cell_type": "markdown",
   "metadata": {},
   "source": [
    "# 📊 Bước 3: Tính toán các chỉ số tài chính - Financial Indicators\n",
    "- Chỉ số Daily Return thể hiện mức độ thay đổi giá của cổ phiếu theo từng ngày.\n",
    "- Công thức: (Giá đóng cửa hôm nay - Giá đóng cửa hôm qua) / Giá đóng cửa hôm qua"
   ]
  },
  {
   "cell_type": "code",
   "execution_count": 46,
   "metadata": {},
   "outputs": [
    {
     "data": {
      "text/html": [
       "<div>\n",
       "<style scoped>\n",
       "    .dataframe tbody tr th:only-of-type {\n",
       "        vertical-align: middle;\n",
       "    }\n",
       "\n",
       "    .dataframe tbody tr th {\n",
       "        vertical-align: top;\n",
       "    }\n",
       "\n",
       "    .dataframe thead th {\n",
       "        text-align: right;\n",
       "    }\n",
       "</style>\n",
       "<table border=\"1\" class=\"dataframe\">\n",
       "  <thead>\n",
       "    <tr style=\"text-align: right;\">\n",
       "      <th></th>\n",
       "      <th>date</th>\n",
       "      <th>open</th>\n",
       "      <th>high</th>\n",
       "      <th>low</th>\n",
       "      <th>close</th>\n",
       "      <th>adj close</th>\n",
       "      <th>volume</th>\n",
       "      <th>daily return</th>\n",
       "    </tr>\n",
       "  </thead>\n",
       "  <tbody>\n",
       "    <tr>\n",
       "      <th>0</th>\n",
       "      <td>2002-05-23 00:00:00-04:00</td>\n",
       "      <td>1.156429</td>\n",
       "      <td>1.242857</td>\n",
       "      <td>1.145714</td>\n",
       "      <td>1.196429</td>\n",
       "      <td>1.196429</td>\n",
       "      <td>104790000</td>\n",
       "      <td>NaN</td>\n",
       "    </tr>\n",
       "    <tr>\n",
       "      <th>1</th>\n",
       "      <td>2002-05-24 00:00:00-04:00</td>\n",
       "      <td>1.214286</td>\n",
       "      <td>1.225000</td>\n",
       "      <td>1.197143</td>\n",
       "      <td>1.210000</td>\n",
       "      <td>1.210000</td>\n",
       "      <td>11104800</td>\n",
       "      <td>0.011343</td>\n",
       "    </tr>\n",
       "    <tr>\n",
       "      <th>2</th>\n",
       "      <td>2002-05-28 00:00:00-04:00</td>\n",
       "      <td>1.213571</td>\n",
       "      <td>1.232143</td>\n",
       "      <td>1.157143</td>\n",
       "      <td>1.157143</td>\n",
       "      <td>1.157143</td>\n",
       "      <td>6609400</td>\n",
       "      <td>-0.043684</td>\n",
       "    </tr>\n",
       "    <tr>\n",
       "      <th>3</th>\n",
       "      <td>2002-05-29 00:00:00-04:00</td>\n",
       "      <td>1.164286</td>\n",
       "      <td>1.164286</td>\n",
       "      <td>1.085714</td>\n",
       "      <td>1.103571</td>\n",
       "      <td>1.103571</td>\n",
       "      <td>6757800</td>\n",
       "      <td>-0.046297</td>\n",
       "    </tr>\n",
       "    <tr>\n",
       "      <th>4</th>\n",
       "      <td>2002-05-30 00:00:00-04:00</td>\n",
       "      <td>1.107857</td>\n",
       "      <td>1.107857</td>\n",
       "      <td>1.071429</td>\n",
       "      <td>1.071429</td>\n",
       "      <td>1.071429</td>\n",
       "      <td>10154200</td>\n",
       "      <td>-0.029125</td>\n",
       "    </tr>\n",
       "  </tbody>\n",
       "</table>\n",
       "</div>"
      ],
      "text/plain": [
       "                        date      open      high       low     close  \\\n",
       "0  2002-05-23 00:00:00-04:00  1.156429  1.242857  1.145714  1.196429   \n",
       "1  2002-05-24 00:00:00-04:00  1.214286  1.225000  1.197143  1.210000   \n",
       "2  2002-05-28 00:00:00-04:00  1.213571  1.232143  1.157143  1.157143   \n",
       "3  2002-05-29 00:00:00-04:00  1.164286  1.164286  1.085714  1.103571   \n",
       "4  2002-05-30 00:00:00-04:00  1.107857  1.107857  1.071429  1.071429   \n",
       "\n",
       "   adj close     volume  daily return  \n",
       "0   1.196429  104790000           NaN  \n",
       "1   1.210000   11104800      0.011343  \n",
       "2   1.157143    6609400     -0.043684  \n",
       "3   1.103571    6757800     -0.046297  \n",
       "4   1.071429   10154200     -0.029125  "
      ]
     },
     "execution_count": 46,
     "metadata": {},
     "output_type": "execute_result"
    }
   ],
   "source": [
    "def calculate_indicators(df):\n",
    "    df['daily return'] = df['close'].pct_change()\n",
    "    return df\n",
    "\n",
    "stock_data = calculate_indicators(stock_data)\n",
    "stock_data.head()"
   ]
  },
  {
   "cell_type": "markdown",
   "metadata": {},
   "source": [
    "# ⚠️ Bước 4: Phân tích rủi ro tài chính - Risk Analysis\n",
    "*Chúng ta sẽ sử dụng hai chỉ số phổ biến để đánh giá rủi ro*\n",
    "- Value at Risk (VaR): Xác định mức lỗ tối đa có thể xảy ra trong một khoảng thời gian nhất định với mức tin cậy nhất định.\n",
    "- Conditional VaR (CVaR): Đánh giá mức lỗ trung bình khi xảy ra tổn thất lớn hơn mức VaR.\n"
   ]
  },
  {
   "cell_type": "code",
   "execution_count": 47,
   "metadata": {},
   "outputs": [
    {
     "name": "stdout",
     "output_type": "stream",
     "text": [
      "Risk Metrics: {'Mean Return': np.float64(0.0017001399044933969), 'Standard Deviation': np.float64(0.03610420507784987), 'Value at Risk (VaR)': np.float64(-0.044619380689897015), 'Conditional VaR (CVaR)': np.float64(-0.0761208059608421)}\n"
     ]
    }
   ],
   "source": [
    "def calculate_risk_metrics(df, confidence_level=0.95):\n",
    "    df = df.dropna(subset=['daily return']) # => Loại bỏ giá trị rỗng để tránh lỗi\n",
    "    # Đánh giá độ biến động của cổ phiếu\n",
    "    mean_return = df['daily return'].mean() # => Tính lợi nhuận trung bình\n",
    "    std_dev = df['daily return'].std() # =>  Mức độ dao động của cổ phiếu => lớn => dao động mạnh\n",
    "    var = np.percentile(df['daily return'], (1 - confidence_level) * 100)\n",
    "    cvar = df['daily return'][df['daily return'] <= var].mean()\n",
    "    return {\n",
    "        \"Mean Return\": mean_return,\n",
    "        \"Standard Deviation\": std_dev,\n",
    "        \"Value at Risk (VaR)\": var,\n",
    "        \"Conditional VaR (CVaR)\": cvar\n",
    "    }\n",
    "\n",
    "risk_metrics = calculate_risk_metrics(stock_data)\n",
    "print(\"Risk Metrics:\", risk_metrics)"
   ]
  },
  {
   "cell_type": "markdown",
   "metadata": {},
   "source": [
    "**Kết quả nhận được:**  \n",
    "`Value at Risk (VaR) = -0.0446 (~ -4.46%)`\n",
    "`Conditional VaR (CVaR) = -0.0761 (~ -7.61%)`\n",
    "\n",
    "### 📌 Ý nghĩa:\n",
    "- VaR cho biết mức lỗ tối đa có thể xảy ra với **95% độ tin cậy**.\n",
    "- Điều này có nghĩa là **trong 95% thời gian**, mức lỗ hàng ngày của cổ phiếu Netflix sẽ **không vượt quá -4.46%**.\n",
    "- CVaR đo lường mức **tổn thất trung bình** trong **5% trường hợp tệ nhất** của Daily Return.\n",
    "- Nghĩa là khi giá cổ phiếu giảm vượt quá mức VaR (-4.46%), thì **mức lỗ trung bình trong trường hợp xấu nhất sẽ là -7.61%**.\n"
   ]
  },
  {
   "cell_type": "markdown",
   "metadata": {},
   "source": [
    "# 📈 Bước 5: Trực quan hóa dữ liệu - Data Visualization\n",
    "- Vẽ biểu đồ xu hướng giá cổ phiếu của Netflix theo thời gian\n",
    "- Trục X là ngày, trục Y là giá đóng cửa (Close Price)"
   ]
  },
  {
   "cell_type": "code",
   "execution_count": 28,
   "metadata": {},
   "outputs": [
    {
     "data": {
      "image/png": "[encoded data removed]",
      "text/plain": [
       "<Figure size 1200x600 with 1 Axes>"
      ]
     },
     "metadata": {},
     "output_type": "display_data"
    }
   ],
   "source": [
    "def plot_stock_data(df):\n",
    "    plt.figure(figsize=(12, 6))\n",
    "    plt.plot(df['date'], df['close'], label='Netflix Stock Price', color='blue')\n",
    "    plt.xlabel('Date')\n",
    "    plt.ylabel('Close Price')\n",
    "    plt.title('Netflix Stock Price Over Time')\n",
    "    plt.legend()\n",
    "    plt.grid()\n",
    "    plt.show()\n",
    "\n",
    "plot_stock_data(stock_data)"
   ]
  },
  {
   "cell_type": "markdown",
   "metadata": {},
   "source": [
    "# 💾 Bước 6: Lưu kết quả phân tích - Save & Export Data"
   ]
  },
  {
   "cell_type": "code",
   "execution_count": 40,
   "metadata": {},
   "outputs": [
    {
     "name": "stdout",
     "output_type": "stream",
     "text": [
      "Dữ liệu đã được lưu tại: processed_data.csv\n"
     ]
    }
   ],
   "source": [
    "def save_results(df, output_path=\"processed_data.csv\"):\n",
    "    df.to_csv(output_path, index=False)\n",
    "    print(f\"Dữ liệu đã được lưu tại: {output_path}\")\n",
    "\n",
    "save_results(stock_data)\n"
   ]
  }
 ],
 "metadata": {
  "kernelspec": {
   "display_name": "Python 3",
   "language": "python",
   "name": "python3"
  },
  "language_info": {
   "codemirror_mode": {
    "name": "ipython",
    "version": 3
   },
   "file_extension": ".py",
   "mimetype": "text/x-python",
   "name": "python",
   "nbconvert_exporter": "python",
   "pygments_lexer": "ipython3",
   "version": "3.13.2"
  }
 },
 "nbformat": 4,
 "nbformat_minor": 2
}
